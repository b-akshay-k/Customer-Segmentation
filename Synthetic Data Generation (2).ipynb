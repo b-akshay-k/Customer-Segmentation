{
 "cells": [
  {
   "cell_type": "markdown",
   "id": "2e97f81f",
   "metadata": {},
   "source": [
    "### Importing dependencies"
   ]
  },
  {
   "cell_type": "code",
   "execution_count": 1,
   "id": "004af7c2",
   "metadata": {},
   "outputs": [],
   "source": [
    "#!pip install faker"
   ]
  },
  {
   "cell_type": "code",
   "execution_count": 2,
   "id": "1621a8d7",
   "metadata": {},
   "outputs": [],
   "source": [
    "## to generate random data we will use faker library\n",
    "\n",
    "from faker import Faker\n",
    "import numpy as np\n",
    "import pandas as pd    ## pandas to make dataframe\n",
    "import random"
   ]
  },
  {
   "cell_type": "code",
   "execution_count": 3,
   "id": "bfae2348",
   "metadata": {},
   "outputs": [],
   "source": [
    "### creating an object of Faker library\n",
    "\n",
    "fake = Faker()"
   ]
  },
  {
   "cell_type": "markdown",
   "id": "42dc4e7b",
   "metadata": {},
   "source": [
    "#### Creating an empty list for each tables"
   ]
  },
  {
   "cell_type": "code",
   "execution_count": 57,
   "id": "8d21e64f",
   "metadata": {},
   "outputs": [],
   "source": [
    "## customer table\n",
    "customerID = []\n",
    "CustomerName = []\n",
    "Age = []\n",
    "Gender = []\n",
    "Location = []            \n",
    "Email = []\n",
    "Phone = []\n",
    "RegistrationDate = []        ## Done\n",
    "\n",
    "## products table\n",
    "ProductID = []\n",
    "ProductName = []\n",
    "CategoryID = []\n",
    "Price = []\n",
    "StockQuantity = []         ## Done\n",
    "\n",
    "## transaction table\n",
    "TransactionID = []\n",
    "CustomerID = []\n",
    "ProductID = []\n",
    "PurchaseDate = []\n",
    "PurchaseAmount = []\n",
    "Quantity = []           ##Done\n",
    "\n",
    "## categories\n",
    "CategoryID = []\n",
    "CategoryName = [] ## Done\n",
    "\n",
    "## employees table\n",
    "EmployeeID = []\n",
    "EmployeeName = []\n",
    "Position = []\n",
    "StoreID = []\n",
    "HireDate = []           ## Done\n",
    "\n",
    "## supplier table\n",
    "\n",
    "SupplierID = []\n",
    "SupplierName = []\n",
    "SupplierLocation = []\n",
    "SupplierPhone = []      ## Date\n",
    "\n",
    "## coupons\n",
    "\n",
    "CouponID = []\n",
    "CouponCode = []\n",
    "Discount = []\n",
    "ExpiryDate = []       ### Done\n",
    "Status = []\n",
    "\n",
    "## redemption table\n",
    "\n",
    "RedemptionID = []\n",
    "CustomerID = []\n",
    "CouponID = []\n",
    "DiscountAmount = []\n",
    "RedemptionDate = []  ## Done\n",
    "\n",
    "\n",
    "## feedack table\n",
    "\n",
    "FeedbackID = []\n",
    "CustomerID = []\n",
    "FeedbackText = []\n",
    "Rating = []\n",
    "FeedbackDate = []  ## done"
   ]
  },
  {
   "cell_type": "markdown",
   "id": "5746ec62",
   "metadata": {},
   "source": [
    "#### Feedback Table"
   ]
  },
  {
   "cell_type": "code",
   "execution_count": 50,
   "id": "a145c7ff",
   "metadata": {},
   "outputs": [],
   "source": [
    "feedback = pd.read_csv(r\"C:\\Users\\admin\\OneDrive\\Documents\\Important Files\\Customer Segmentation\\Feedback.csv\")"
   ]
  },
  {
   "cell_type": "code",
   "execution_count": 53,
   "id": "d81f7f65",
   "metadata": {},
   "outputs": [],
   "source": [
    "feedback.drop(columns=['Customer-ID'],inplace=True)"
   ]
  },
  {
   "cell_type": "code",
   "execution_count": null,
   "id": "f57962bb",
   "metadata": {},
   "outputs": [],
   "source": [
    "print(\"FeedbackID:\", len(FeedbackID))\n",
    "print(\"FeedbackDate:\", len(FeedbackDate))\n",
    "print(\"CustomerID\", len(cust))\n",
    "print(\"Feedback:\", len(FeedbackText))\n",
    "print(\"Rating:\", len(Rating))"
   ]
  },
  {
   "cell_type": "code",
   "execution_count": 54,
   "id": "15a20f3f",
   "metadata": {},
   "outputs": [],
   "source": [
    "feedback['Customer-ID'] = cust"
   ]
  },
  {
   "cell_type": "code",
   "execution_count": 56,
   "id": "63d7e1f5",
   "metadata": {},
   "outputs": [],
   "source": [
    "#feedback.to_csv('Feedbacks.csv')"
   ]
  },
  {
   "cell_type": "code",
   "execution_count": 48,
   "id": "c4e8cc73",
   "metadata": {},
   "outputs": [],
   "source": [
    "#df = pd.DataFrame({'FeedbackID':FeedbackID,'FeedbackDate':FeedbackDate,'Feedback':FeedbackText})\n",
    "\n",
    "#df['Customer-ID'] = cust\n",
    "\n",
    "#df['Ratings'] = Rating\n",
    "#df.to_csv('Feedback.csv')"
   ]
  },
  {
   "cell_type": "code",
   "execution_count": 8,
   "id": "e28fd50e",
   "metadata": {},
   "outputs": [],
   "source": [
    "cust = customer['Customer-ID']"
   ]
  },
  {
   "cell_type": "code",
   "execution_count": 10,
   "id": "b654a3dc",
   "metadata": {},
   "outputs": [],
   "source": [
    "df = pd.read_csv(r\"C:\\Users\\admin\\Downloads\\df.csv\")"
   ]
  },
  {
   "cell_type": "code",
   "execution_count": null,
   "id": "7ce2d98b",
   "metadata": {},
   "outputs": [],
   "source": [
    "FeedbackText.clear()\n",
    "Rating.clear()"
   ]
  },
  {
   "cell_type": "code",
   "execution_count": 11,
   "id": "1a49956f",
   "metadata": {},
   "outputs": [],
   "source": [
    "Matter = df[['Score','Text']].sample(100000)"
   ]
  },
  {
   "cell_type": "code",
   "execution_count": 12,
   "id": "f87de256",
   "metadata": {},
   "outputs": [],
   "source": [
    "FeedbackText = Matter['Text']\n",
    "Rating = Matter['Score']"
   ]
  },
  {
   "cell_type": "code",
   "execution_count": 16,
   "id": "c159148f",
   "metadata": {},
   "outputs": [],
   "source": [
    "for i in range(100000):\n",
    "    FeedbackID.append(f\"FEDBXXID-{i}\")\n",
    "    FeedbackDate.append(fake.date_between('-7y','now'))"
   ]
  },
  {
   "cell_type": "markdown",
   "id": "bfa2e0eb",
   "metadata": {},
   "source": [
    "#### Redemption Table"
   ]
  },
  {
   "cell_type": "code",
   "execution_count": null,
   "id": "5e5416c1",
   "metadata": {},
   "outputs": [],
   "source": [
    "for i in range(1,20001):\n",
    "    RedemptionID.append(f\"REDDEDXXID{i}\")\n",
    "    RedemptionDate.append(fake.date_between('-6y','now'))\n",
    "    DiscountAmount.append(np.random.randint(5,200))\n"
   ]
  },
  {
   "cell_type": "code",
   "execution_count": null,
   "id": "7a19c086",
   "metadata": {},
   "outputs": [],
   "source": [
    "import random\n",
    "import string\n",
    "\n",
    "def generate_redcode(length=8):\n",
    "    characters = string.ascii_uppercase + string.digits + \"ID\"\n",
    "    redemption_code = ''.join(random.choice(characters) for _ in range(length))\n",
    "    return redemption_code\n",
    "\n",
    "redumpt = 20000\n",
    "redemption_codes = [generate_redcode() for _ in range(redumpt)]\n",
    "\n",
    "# Print the first few generated redemption codes to check\n",
    "print(redemption_codes[:10])  # Print first 10 redemption codes for example\n"
   ]
  },
  {
   "cell_type": "code",
   "execution_count": null,
   "id": "ec113bec",
   "metadata": {},
   "outputs": [],
   "source": [
    "cup = pd.read_csv(r\"C:\\Users\\admin\\OneDrive\\Documents\\Important Files\\Customer Segmentation\\Coupon.csv\")\n",
    "cup['CouponID']"
   ]
  },
  {
   "cell_type": "code",
   "execution_count": null,
   "id": "8f6b6aa2",
   "metadata": {},
   "outputs": [],
   "source": [
    "def new_coupons(length=8):\n",
    "    characters = \"CUPNXX\" + string.digits + \"ID\"\n",
    "    new_coupon = ''.join(random.choice(characters) for i in range(length))\n",
    "    return new_coupon\n",
    "\n",
    "generate = [new_coupons() for i in range(20000)]"
   ]
  },
  {
   "cell_type": "code",
   "execution_count": null,
   "id": "230251b4",
   "metadata": {},
   "outputs": [],
   "source": [
    "redded = pd.DataFrame({'RedemptionID':RedemptionID,'CustomerID':RedemptCust,'UsedCouponID':generate,\n",
    "                     #  'DiscountAmount':DiscountAmount,'RedemptionDate':RedemptionDate})\n",
    "redded.to_csv('Redemption.csv')"
   ]
  },
  {
   "cell_type": "code",
   "execution_count": 7,
   "id": "db2e8084",
   "metadata": {},
   "outputs": [],
   "source": [
    "customer = pd.read_csv(r\"C:\\Users\\admin\\OneDrive\\Documents\\Important Files\\Customer Segmentation\\Customers.csv\")\n",
    "df['Customer-ID'] = 'CUSTIDXX-' + df['Customer-ID'].astype(str)\n",
    "df.to_csv('Customers.csv')"
   ]
  },
  {
   "cell_type": "code",
   "execution_count": null,
   "id": "499a8ac1",
   "metadata": {},
   "outputs": [],
   "source": [
    "RedemptCust = df['Customer-ID'].sample(20000)\n",
    "len(RedemptCust)"
   ]
  },
  {
   "cell_type": "code",
   "execution_count": null,
   "id": "8d3637a1",
   "metadata": {},
   "outputs": [],
   "source": [
    "import random\n",
    "import string\n",
    "\n",
    "def generate_coupon_code(length=8):\n",
    "    characters = string.ascii_letters + string.digits + '-_'\n",
    "\n",
    "    coupon_code = ''.join(random.choice(characters) for _ in range(length))\n",
    "    return coupon_code\n",
    "\n",
    " Generate 50 random coupon codes\n",
    "num_coupons = 50\n",
    "coupon_codes = [generate_coupon_code() for _ in range(num_coupons)]\n",
    "\n",
    " Print the generated coupon co\n"
   ]
  },
  {
   "cell_type": "code",
   "execution_count": null,
   "id": "4eed534f",
   "metadata": {},
   "outputs": [],
   "source": []
  },
  {
   "cell_type": "code",
   "execution_count": null,
   "id": "241f4027",
   "metadata": {},
   "outputs": [],
   "source": [
    "for i in range(1,10000):\n",
    "    coupon_id = f\"CUPNXX-ID{i}\"\n",
    "    CouponID.append(coupon_id)\n",
    "    Discount.append(np.random.randint(1,100,1)[0])\n",
    "    ExpiryDate.append(fake.date_between('now','+2y'))"
   ]
  },
  {
   "cell_type": "code",
   "execution_count": null,
   "id": "fe89d02b",
   "metadata": {},
   "outputs": [],
   "source": [
    "CouponCode = []\n",
    "statuses = ['Active', 'Used', 'Unused']\n",
    "for i in range(1,10000):\n",
    "    CouponCode.append(random.choice(coupon_codes))\n",
    "    Status.append(random.choice(statuses))"
   ]
  },
  {
   "cell_type": "code",
   "execution_count": null,
   "id": "b2121c2c",
   "metadata": {},
   "outputs": [],
   "source": [
    "percentage = []\n",
    "for i in range(1, 10000):\n",
    "    random_percent = np.random.randint(4, 51)\n",
    "    percentage.append(f\"{random_percent}%\")"
   ]
  },
  {
   "cell_type": "code",
   "execution_count": null,
   "id": "8e85b659",
   "metadata": {},
   "outputs": [],
   "source": [
    "Discount = percentage\n",
    "len(Discount)"
   ]
  },
  {
   "cell_type": "code",
   "execution_count": null,
   "id": "2ad8628f",
   "metadata": {},
   "outputs": [],
   "source": [
    "Coupon = pd.DataFrame({'CouponID':CouponID,'CouponCode':CouponCode,'Discount':Discount,'ExpiryDate':ExpiryDate,'Status':Status})\n",
    "Coupon\n",
    "Coupon.to_csv('Coupon.csv')"
   ]
  },
  {
   "cell_type": "code",
   "execution_count": null,
   "id": "f6e70acd",
   "metadata": {},
   "outputs": [],
   "source": [
    "SupplierID = []\n",
    "for i in range(1,31):\n",
    "\n",
    "    SupplierID.append(i)\n",
    "    SupplierName.append(fake.name_male())\n",
    "    SupplierLocation.append(fake.city())\n",
    "    SupplierPhone.append(fake.phone_number())"
   ]
  },
  {
   "cell_type": "code",
   "execution_count": null,
   "id": "d7f46296",
   "metadata": {},
   "outputs": [],
   "source": [
    "Supplier = pd.DataFrame({'SupplierID':SupplierID,'SupplierName':SupplierName,'SupplierLocation':SupplierLocation,\n",
    "                        'SupplierPhone':SupplierPhone})\n",
    "Supplier.head()\n",
    "Supplier.to_csv('Supplier.csv')"
   ]
  },
  {
   "cell_type": "markdown",
   "id": "ce318d48",
   "metadata": {},
   "source": [
    "### Customer Table"
   ]
  },
  {
   "cell_type": "code",
   "execution_count": null,
   "id": "bff8f508",
   "metadata": {},
   "outputs": [],
   "source": [
    "# Name, Gender, Street Address, Email, Phone Number, Registration Date\n",
    "for i in range(0,100000):\n",
    "    CustomerName.append(fake.name())\n",
    "    Gender.append(fake.passport_gender())\n",
    "    Location.append(fake.street_address())\n",
    "    Email.append(fake.email())\n",
    "    Phone.append(fake.phone_number())\n",
    "    RegistrationDate.append(fake.date_between_dates('-7y','now'))"
   ]
  },
  {
   "cell_type": "markdown",
   "id": "addd538d",
   "metadata": {},
   "source": [
    "### Customer table to_csv"
   ]
  },
  {
   "cell_type": "code",
   "execution_count": null,
   "id": "d6197723",
   "metadata": {},
   "outputs": [],
   "source": [
    "## Making datframe\n",
    "\n",
    "data = {'CustomerName':CustomerName,\n",
    "        'Gender':Gender,\n",
    "       'Adress':Location,\n",
    "       'Email':Email,\n",
    "       'Number':Phone,\n",
    "       'RegistrationDate':RegistrationDate}\n",
    "\n",
    "customer = pd.DataFrame(data)\n",
    "customer.head()\n",
    "\n",
    "#customer.to_csv('Customer.csv')"
   ]
  },
  {
   "cell_type": "markdown",
   "id": "c484f839",
   "metadata": {},
   "source": [
    "### Products table"
   ]
  },
  {
   "cell_type": "code",
   "execution_count": null,
   "id": "dc29abb4",
   "metadata": {},
   "outputs": [],
   "source": [
    "import random\n",
    "\n",
    "# Initialize empty lists\n",
    "ProductID = []\n",
    "ProductName = []\n",
    "CategoryID = []\n",
    "Price = []\n",
    "\n",
    "# Define categories and their products\n",
    "categories = [\n",
    "    \"Produce\", \n",
    "    \"Dairy\", \n",
    "    \"Meat and Seafood\",\n",
    "    \"Bakery\",\n",
    "    \"Frozen Foods\",\n",
    "    \"Canned and Packaged Goods\",\n",
    "    \"Snacks and Beverages\",\n",
    "    \"Condiments and Sauces\",\n",
    "    \"Breakfast and Cereal\",\n",
    "    \"Pasta, Rice, and Grains\",\n",
    "    \"Baking Supplies\",\n",
    "    \"Beverages\",\n",
    "    \"Household Essentials\",\n",
    "    \"Personal Care and Beauty\",\n",
    "    \"Baby and Toddler\",\n",
    "    \"Pet Supplies\",\n",
    "    \"Health and Wellness\",\n",
    "    \"Office and School Supplies\",\n",
    "    \"Cleaning Supplies\",\n",
    "    \"Electronics and Appliances\",\n",
    "    \"Home and Kitchen\",\n",
    "    \"Toys and Games\",\n",
    "    \"Apparel and Accessories\",        \n",
    "    \"Automotive and Hardware\",\n",
    "    \"Seasonal Items\",\n",
    "    \"Outdoor and Garden\",\n",
    "    \"Books, Music, and Movies\",\n",
    "    \"Sports and Fitness\",\n",
    "    \"Ethnic Foods\",\n",
    "    \"Deli and Prepared Foods\"\n"
   ]
  },
  {
   "cell_type": "code",
   "execution_count": null,
   "id": "b6bfffd9",
   "metadata": {},
   "outputs": [],
   "source": []
  },
  {
   "cell_type": "markdown",
   "id": "5e07c76c",
   "metadata": {},
   "source": [
    "### transaction table"
   ]
  },
  {
   "cell_type": "code",
   "execution_count": null,
   "id": "2965e183",
   "metadata": {},
   "outputs": [],
   "source": [
    "# Purchase Amount, Purchase Date, Quantity\n",
    "for i in range(0,100000):\n",
    "    TransactionID.append(i)\n",
    "    PurchaseAmount.append(np.random.randint(9,1601))\n",
    "    PurchaseDate.append(fake.date_time_between_dates('-7y','now'))\n",
    "    Quantity.append(np.random.randint(0,100,1)[0])"
   ]
  },
  {
   "cell_type": "code",
   "execution_count": null,
   "id": "92d2c3ec",
   "metadata": {},
   "outputs": [],
   "source": []
  },
  {
   "cell_type": "markdown",
   "id": "efea8d99",
   "metadata": {},
   "source": [
    "### Employee Table"
   ]
  },
  {
   "cell_type": "code",
   "execution_count": null,
   "id": "f9c4b2c8",
   "metadata": {},
   "outputs": [],
   "source": [
    "import random\n",
    "from datetime import datetime, timedelta\n",
    "\n",
    "# Initialize lists to store employee data\n",
    "EmployeeID = []\n",
    "EmployeeName = []\n",
    "Position = []\n",
    "StoreID = []\n",
    "HireDate = []\n",
    "\n",
    "# Define positions and store ID\n",
    "positions = ['Cashier', 'Stock Clerk', 'Manager', 'Supervisor', 'Customer Service']\n",
    "store_id = \"STR-20240320-001\"\n",
    "\n",
    "# List of \"Family Guy\" character names\n",
    "family_guy_characters = [\n",
    "    \"Peter Griffin\", \"Lois Griffin\", \"Stewie Griffin\", \"Brian Griffin\", \"Chris Griffin\",\n",
    "    \"Meg Griffin\", \"Glenn Quagmire\", \"Cleveland Brown\", \"Joe Swanson\", \"Bonnie Swanson\",\n",
    "    \"Herbert\", \"Mayor Adam West\", \"Mort Goldman\", \"Tom Tucker\", \"Diane Simmons\", \"Angela\",\n",
    "    \"Dr. Hartman\", \"Bruce\", \"Carter Pewterschmidt\", \"Barbara Pewterschmidt\", \"Tricia Takanawa\",\n",
    "    \"Consuela\", \"Jasper\", \"Carl\", \"Seamus Levine\", \"Greased-Up Deaf Guy\", \"Death\", \"Mr. Weed\",\n",
    "    \"Opie\", \"Jillian Russell-Wilcox\"\n",
    "]\n",
    "\n",
    "# Function to generate random EmployeeID\n",
    "def generate_employee_id():\n",
    "    return f'EID-{random.randint(1000, 9999)}'\n",
    "\n",
    "# Generate employee data for each year from 2017 to 2024\n",
    "for year in range(2017, 2025):\n",
    "    for _ in range(10):  # Hire 10 employees each year\n",
    "        EmployeeID.append(generate_employee_id())\n",
    "        EmployeeName.append(random.choice(family_guy_characters))\n",
    "        Position.append(random.choice(positions))\n",
    "        StoreID.append(store_id)\n",
    "        \n",
    "        # Set higher chance of long-term employment for employees hired between 2017 and 2020\n",
    "        if year <= 2020:\n",
    "            hire_date = datetime(year, random.randint(1, 12), random.randint(1, 28))\n",
    "            HireDate.append(hire_date.strftime('%Y-%m-%d'))\n",
    "        else:\n",
    "            # Set lower chance of long-term employment for employees hired in 2021 or later\n",
    "            if random.random() < 0.2:  # 20% chance of staying long-term\n",
    "                hire_date = datetime(year, random.randint(1, 12), random.randint(1, 28))\n",
    "                HireDate.append(hire_date.strftime('%Y-%m-%d'))\n",
    "            else:\n",
    "                # Set a random past date for employees who don't stay long-term\n",
    "                hire_date = datetime(year - random.randint(1, 3), random.randint(1, 12), random.randint(1, 28))\n",
    "                HireDate.append(hire_date.strftime('%Y-%m-%d'))"
   ]
  },
  {
   "cell_type": "markdown",
   "id": "b0b7237b",
   "metadata": {},
   "source": [
    "Employee = pd.DataFrame({'EmployeeID':EmployeeID, 'EmployeeName':EmployeeName, 'Position':Position,'StoreID':StoreID,\n",
    "                         'HireDate':HireDate})\n",
    "Employee.head()\n",
    "#Employee.to_csv('Employee.csv')"
   ]
  },
  {
   "cell_type": "code",
   "execution_count": null,
   "id": "1fbec7a0",
   "metadata": {},
   "outputs": [],
   "source": [
    "print(\"EmployeeID:\", len(EmployeeID))\n",
    "print(\"EmployeeName:\", len(EmployeeName))\n",
    "print(\"Position:\", len(Position))\n",
    "print(\"StoreID:\", len(StoreID))\n",
    "print(\"HireDate:\", len(HireDate))"
   ]
  },
  {
   "cell_type": "code",
   "execution_count": null,
   "id": "670ffe67",
   "metadata": {},
   "outputs": [],
   "source": [
    "## customer table\n",
    "print(\"Customername:\",len(CustomerName))\n",
    "print(\"Gender:\",len(Gender))\n",
    "print(\"Location:\",len(Location))\n",
    "print(\"Email:\",len(Email))\n",
    "print(\"Phone:\",len(Phone))\n",
    "print(\"RegistrationDate:\",len(RegistrationDate))"
   ]
  },
  {
   "cell_type": "code",
   "execution_count": null,
   "id": "3f229e46",
   "metadata": {},
   "outputs": [],
   "source": [
    "stock = pd.read_csv(r\"C:\\Users\\admin\\OneDrive\\Documents\\Important Files\\Customer Segmentation\\Products.csv\")\n",
    "#stock.drop(columns=['Column1'],inplace=True)\n",
    "\n",
    "ProductID\n",
    "for i in range(0,302):\n",
    "    ProductID.append(i)\n",
    "    \n",
    "stock['ProductID'] = ProductID\n",
    "\n",
    "StockQuantity = []\n",
    "for i in stock['Categories']:\n",
    "    if (i=='Produce'):\n",
    "        #pass\n",
    "        StockQuantity.append(np.random.randint(0,30,1)[0])\n",
    "    elif (i==\"Frozen Foods\"):\n",
    "        #pass\n",
    "        StockQuantity.append(np.random.randint(0,35,1)[0])\n",
    "    elif (i=='Meat and Seafood'):\n",
    "        #pass\n",
    "        StockQuantity.append(np.random.randint(0,20,1)[0])\n",
    "    else:\n",
    "        StockQuantity.append(np.random.randint(0,100,1)[0])\n",
    "        \n",
    "stock['StockQuantity'] = StockQuantity"
   ]
  },
  {
   "cell_type": "markdown",
   "id": "e41becb6",
   "metadata": {},
   "source": [
    "ProductID = []\n",
    "for i in range(300):\n",
    "    ProductID.append(i)\n",
    "stock['ProductID'] = ProductID"
   ]
  },
  {
   "cell_type": "code",
   "execution_count": null,
   "id": "391643e5",
   "metadata": {},
   "outputs": [],
   "source": [
    "#stock.to_csv('Product.csv')"
   ]
  },
  {
   "cell_type": "markdown",
   "id": "6cc90801",
   "metadata": {},
   "source": [
    "### Category Table"
   ]
  },
  {
   "cell_type": "code",
   "execution_count": null,
   "id": "bab4c2f5",
   "metadata": {},
   "outputs": [],
   "source": [
    "CategoryID = []\n",
    "Categories = []\n",
    "\n",
    "for i in stock['CategoryID'].unique():\n",
    "    CategoryID.append(i)\n",
    "    \n",
    "for j in stock['Categories'].unique():\n",
    "    Categories.append(j) "
   ]
  },
  {
   "cell_type": "code",
   "execution_count": null,
   "id": "51981c92",
   "metadata": {},
   "outputs": [],
   "source": [
    "Category = pd.DataFrame({'CategoryID':CategoryID,\n",
    "                        \"Categories\": Categories})\n",
    "#Category.to_csv('Category.csv')"
   ]
  },
  {
   "cell_type": "markdown",
   "id": "830dd667",
   "metadata": {},
   "source": [
    "stock.head(2)"
   ]
  },
  {
   "cell_type": "code",
   "execution_count": null,
   "id": "89089117",
   "metadata": {},
   "outputs": [],
   "source": [
    "products = pd.read_csv(r\"C:\\Users\\admin\\OneDrive\\Documents\\Important Files\\Customer Segmentation\\Product.csv\")\n",
    "\n",
    "PID = products[['CategoryID','ProductID']]"
   ]
  },
  {
   "cell_type": "code",
   "execution_count": null,
   "id": "a6addbf6",
   "metadata": {},
   "outputs": [],
   "source": [
    "ProductsCatID = []\n",
    "for i in range(0,100000):\n",
    "    ProductsCatID.append(random.choices(PID[['CategoryID','ProductID']].values)[0])"
   ]
  },
  {
   "cell_type": "code",
   "execution_count": null,
   "id": "2bfebcf2",
   "metadata": {},
   "outputs": [],
   "source": [
    "ProductID = []\n",
    "for i in range(0,100000):\n",
    "    ProductID.append(random.choice(PID))"
   ]
  },
  {
   "cell_type": "code",
   "execution_count": null,
   "id": "5afc6f59",
   "metadata": {},
   "outputs": [],
   "source": [
    "## transaction table\n",
    "\n",
    "print(\"PurchaseAmount:\", len(PurchaseAmount))\n",
    "print(\"PurchaseDate:\", len(PurchaseDate))\n",
    "print(\"Quantity:\", len(Quantity))\n",
    "print(\"PurchaseAmount:\", len(PurchaseAmount))\n",
    "print(\"TransactionID:\", len(TransactionID))\n",
    "print(\"ProductscatID\", len(ProductsCatID))\n",
    "\n",
    "\n",
    "transaction  = pd.DataFrame({'TransactionID': TransactionID,'PurchaseAmount':PurchaseAmount,'PurchaseDate':PurchaseDate,\n",
    "                             'Products and Cat ID':ProductsCatID,'PurchaseQuantity':Quantity})\n",
    "transaction.sample(5)"
   ]
  },
  {
   "cell_type": "code",
   "execution_count": null,
   "id": "2ed5d792",
   "metadata": {},
   "outputs": [],
   "source": [
    "#transaction.to_csv('TransactionID.csv')"
   ]
  },
  {
   "cell_type": "code",
   "execution_count": null,
   "id": "4ddbcc5a",
   "metadata": {},
   "outputs": [],
   "source": [
    "print(\"Store id:\",len(StoreID))\n",
    "print(\"store name:\",len(StoreName))\n",
    "print(\"store location\", len(Location))\n",
    "print(\"Store manager name:\",len(ManagerName))"
   ]
  }
 ],
 "metadata": {
  "kernelspec": {
   "display_name": "Python 3 (ipykernel)",
   "language": "python",
   "name": "python3"
  },
  "language_info": {
   "codemirror_mode": {
    "name": "ipython",
    "version": 3
   },
   "file_extension": ".py",
   "mimetype": "text/x-python",
   "name": "python",
   "nbconvert_exporter": "python",
   "pygments_lexer": "ipython3",
   "version": "3.11.5"
  }
 },
 "nbformat": 4,
 "nbformat_minor": 5
}
